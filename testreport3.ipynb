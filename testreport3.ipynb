{
 "cells": [
  {
   "cell_type": "code",
   "execution_count": 1,
   "metadata": {},
   "outputs": [
    {
     "output_type": "stream",
     "name": "stderr",
     "text": [
      "/Users/neo/.pyenv/versions/3.9.6/Library/Frameworks/Python.framework/Versions/3.9/lib/python3.9/site-packages/pandas/compat/__init__.py:124: UserWarning: Could not import the lzma module. Your installed Python is incomplete. Attempting to use lzma compression will result in a RuntimeError.\n  warnings.warn(msg)\n"
     ]
    }
   ],
   "source": [
    "# import libraries # warning lzma on python 3.9++\n",
    "import numpy as np\n",
    "import pandas as pd"
   ]
  },
  {
   "cell_type": "code",
   "execution_count": 2,
   "metadata": {},
   "outputs": [],
   "source": [
    "# dataframe = pd.read_csv('Custom_Report_PV.csv')\n",
    "dataframe1 = pd.read_csv('Custom_Report_PVTF_clense_report_7_16_2021.csv')\n",
    "dataframe2 = pd.read_csv('Custom_Report_PVTF_clense_report_16_07_2021.csv')\n",
    "# print(f'pandas version:  {pd.__version__}')"
   ]
  },
  {
   "cell_type": "code",
   "execution_count": 2,
   "metadata": {},
   "outputs": [],
   "source": [
    "# clean data --> omitted last row (sum data) and other NaN row\n",
    "focus_df = dataframe1"
   ]
  },
  {
   "source": [
    "# create report\n",
    "report_col = ['วันที่โอน', 'FormBank', 'AccNo.','ToBank','Accno','Amount','Ref.']"
   ],
   "cell_type": "code",
   "metadata": {},
   "execution_count": 3,
   "outputs": []
  },
  {
   "cell_type": "code",
   "execution_count": 3,
   "metadata": {},
   "outputs": [],
   "source": [
    "# view column\n",
    "# Index(['วันที่โอน', 'Frombank', 'Frombank_BBL', 'Frombank_SCB', 'Frombank_BAY',\n",
    "#        'Frombank_Kbank', 'Frombank_TTB', 'Frombank_KTB', 'FBAccNoBAY',\n",
    "#        'FBAccNoBAY_1850030426', 'FBAccNoBAY_1851288804', 'FBAccNoBBL',\n",
    "#        'FBAccNoBBL_1873061780', 'FBAccNoBBL_1874493222',\n",
    "#        'FBAccNoBBL_9203000410', 'FBAccNoBBL_9200013200',\n",
    "#        'FBAccNoBBL_9203000303', 'FBAccNoBBL_5820904489',\n",
    "#        'FBAccNoBBL_5823004931', 'FBAccNoBBL_2173020112',\n",
    "#        'FBAccNoBBL_2174149696', 'FBAccNoBBL_1455466696',\n",
    "#        'FBAccNoBBL_1453070466', 'FBAccNoKBANK', 'FBAccNoKBANK_7391013343',\n",
    "#        'FBAccNoKBANK_7601020836', 'FBAccNoKBANK_7601020763',\n",
    "#        'FBAccNoKBANK_7001001706', 'FBAccNoKBANK_7002239188', 'FBAccNoKTB',\n",
    "#        'FBAccNoKTB_1950180611', 'FBAccNoKTB_1956010408', 'FBAccNoSCB',\n",
    "#        'FBAccNoSCB_1173013946', 'FBAccNoSCB_1172673256', 'FBAccNoTTB',\n",
    "#        'FBAccNoTTB_1012199970', 'FBAccNoTTB_1011102801', 'ToBank',\n",
    "#        'ToBank_BBL', 'ToBank_SCB', 'ToBank_BAY', 'ToBank_Kbank', 'ToBank_TTB',\n",
    "#        'ToBank_KTB', 'ToBankBAY', 'ToBankBAY_1850030426',\n",
    "#        'ToBankBAY_1851288804', 'ToBankBBL', 'ToBankBBL_1873061780',\n",
    "#        'ToBankBBL_1874493222', 'ToBankBBL_9203000410', 'ToBankBBL_9200013200',\n",
    "#        'ToBankBBL_9203000303', 'ToBankBBL_5820904489', 'ToBankBBL_5823004931',\n",
    "#        'ToBankBBL_2173020112', 'ToBankBBL_2174149696', 'ToBankBBL_1455466696',\n",
    "#        'ToBankBBL_1453070466', 'ToBankKbank', 'ToBankKbank_7391013343',\n",
    "#        'ToBankKbank_7601020836', 'ToBankKbank_7601020763',\n",
    "#        'ToBankKbank_7001001706', 'ToBankKbank_7002239188', 'ToBankKTB',\n",
    "#        'ToBankKTB_1950180611', 'ToBankKTB_1956010408', 'ToBankSCB',\n",
    "#        'ToBankSCB_1173013946', 'ToBankSCB_1172673256', 'ToBankTTB',\n",
    "#        'ToBankTTB_1012199970', 'ToBankTTB_1011102801', 'Amount', 'RefNo'],\n",
    "#       dtype='object')\n"
   ]
  },
  {
   "cell_type": "code",
   "execution_count": 5,
   "metadata": {},
   "outputs": [],
   "source": [
    "def splitBank(bankString):\n",
    "    return bankString.split('|') if (not pd.isna(bankString)) else ''"
   ]
  },
  {
   "cell_type": "code",
   "execution_count": 45,
   "metadata": {},
   "outputs": [
    {
     "output_type": "stream",
     "name": "stdout",
     "text": [
      "0    [7601020836, 7601020836]\n1                            \nName: FBAccNoKBANK, dtype: object\n0    7601020836|7601020836\n1                      NaN\nName: FBAccNoKBANK, dtype: object\n"
     ]
    },
    {
     "output_type": "error",
     "ename": "AttributeError",
     "evalue": "'float' object has no attribute 'split'",
     "traceback": [
      "\u001b[0;31m---------------------------------------------------------------------------\u001b[0m",
      "\u001b[0;31mAttributeError\u001b[0m                            Traceback (most recent call last)",
      "\u001b[0;32m/var/folders/17/9gzk94x14pd6ymrhcq9h5gf00000gn/T/ipykernel_4994/1474210650.py\u001b[0m in \u001b[0;36m<module>\u001b[0;34m\u001b[0m\n\u001b[1;32m     17\u001b[0m     \u001b[0;32mif\u001b[0m \u001b[0mthis_bank\u001b[0m \u001b[0;34m!=\u001b[0m \u001b[0mfocus_bank\u001b[0m\u001b[0;34m[\u001b[0m\u001b[0mbank_idx\u001b[0m\u001b[0;34m]\u001b[0m\u001b[0;34m:\u001b[0m\u001b[0;34m\u001b[0m\u001b[0;34m\u001b[0m\u001b[0m\n\u001b[1;32m     18\u001b[0m         \u001b[0mthis_bank\u001b[0m \u001b[0;34m=\u001b[0m \u001b[0mfocus_bank\u001b[0m\u001b[0;34m[\u001b[0m\u001b[0mbank_idx\u001b[0m\u001b[0;34m]\u001b[0m\u001b[0;34m\u001b[0m\u001b[0;34m\u001b[0m\u001b[0m\n\u001b[0;32m---> 19\u001b[0;31m         \u001b[0mprint\u001b[0m\u001b[0;34m(\u001b[0m\u001b[0mfocus_dataframe\u001b[0m\u001b[0;34m[\u001b[0m\u001b[0;34m'FBAccNo'\u001b[0m\u001b[0;34m+\u001b[0m\u001b[0mfocus_bank\u001b[0m\u001b[0;34m[\u001b[0m\u001b[0mbank_idx\u001b[0m\u001b[0;34m]\u001b[0m\u001b[0;34m.\u001b[0m\u001b[0mupper\u001b[0m\u001b[0;34m(\u001b[0m\u001b[0;34m)\u001b[0m\u001b[0;34m]\u001b[0m\u001b[0;34m.\u001b[0m\u001b[0mmap\u001b[0m\u001b[0;34m(\u001b[0m\u001b[0msplitBank\u001b[0m\u001b[0;34m)\u001b[0m\u001b[0;34m)\u001b[0m\u001b[0;34m\u001b[0m\u001b[0;34m\u001b[0m\u001b[0m\n\u001b[0m\u001b[1;32m     20\u001b[0m     \u001b[0;32melse\u001b[0m \u001b[0;34m:\u001b[0m\u001b[0;34m\u001b[0m\u001b[0;34m\u001b[0m\u001b[0m\n\u001b[1;32m     21\u001b[0m         \u001b[0mprint\u001b[0m\u001b[0;34m(\u001b[0m\u001b[0mfocus_dataframe\u001b[0m\u001b[0;34m[\u001b[0m\u001b[0;34m'FBAccNo'\u001b[0m\u001b[0;34m+\u001b[0m\u001b[0mfocus_bank\u001b[0m\u001b[0;34m[\u001b[0m\u001b[0mbank_idx\u001b[0m\u001b[0;34m]\u001b[0m\u001b[0;34m.\u001b[0m\u001b[0mupper\u001b[0m\u001b[0;34m(\u001b[0m\u001b[0;34m)\u001b[0m\u001b[0;34m]\u001b[0m\u001b[0;34m)\u001b[0m\u001b[0;34m\u001b[0m\u001b[0;34m\u001b[0m\u001b[0m\n",
      "\u001b[0;32m~/.pyenv/versions/3.9.6/Library/Frameworks/Python.framework/Versions/3.9/lib/python3.9/site-packages/pandas/core/series.py\u001b[0m in \u001b[0;36mmap\u001b[0;34m(self, arg, na_action)\u001b[0m\n\u001b[1;32m   4158\u001b[0m         \u001b[0mdtype\u001b[0m\u001b[0;34m:\u001b[0m \u001b[0mobject\u001b[0m\u001b[0;34m\u001b[0m\u001b[0;34m\u001b[0m\u001b[0m\n\u001b[1;32m   4159\u001b[0m         \"\"\"\n\u001b[0;32m-> 4160\u001b[0;31m         \u001b[0mnew_values\u001b[0m \u001b[0;34m=\u001b[0m \u001b[0msuper\u001b[0m\u001b[0;34m(\u001b[0m\u001b[0;34m)\u001b[0m\u001b[0;34m.\u001b[0m\u001b[0m_map_values\u001b[0m\u001b[0;34m(\u001b[0m\u001b[0marg\u001b[0m\u001b[0;34m,\u001b[0m \u001b[0mna_action\u001b[0m\u001b[0;34m=\u001b[0m\u001b[0mna_action\u001b[0m\u001b[0;34m)\u001b[0m\u001b[0;34m\u001b[0m\u001b[0;34m\u001b[0m\u001b[0m\n\u001b[0m\u001b[1;32m   4161\u001b[0m         return self._constructor(new_values, index=self.index).__finalize__(\n\u001b[1;32m   4162\u001b[0m             \u001b[0mself\u001b[0m\u001b[0;34m,\u001b[0m \u001b[0mmethod\u001b[0m\u001b[0;34m=\u001b[0m\u001b[0;34m\"map\"\u001b[0m\u001b[0;34m\u001b[0m\u001b[0;34m\u001b[0m\u001b[0m\n",
      "\u001b[0;32m~/.pyenv/versions/3.9.6/Library/Frameworks/Python.framework/Versions/3.9/lib/python3.9/site-packages/pandas/core/base.py\u001b[0m in \u001b[0;36m_map_values\u001b[0;34m(self, mapper, na_action)\u001b[0m\n\u001b[1;32m    868\u001b[0m \u001b[0;34m\u001b[0m\u001b[0m\n\u001b[1;32m    869\u001b[0m         \u001b[0;31m# mapper is a function\u001b[0m\u001b[0;34m\u001b[0m\u001b[0;34m\u001b[0m\u001b[0;34m\u001b[0m\u001b[0m\n\u001b[0;32m--> 870\u001b[0;31m         \u001b[0mnew_values\u001b[0m \u001b[0;34m=\u001b[0m \u001b[0mmap_f\u001b[0m\u001b[0;34m(\u001b[0m\u001b[0mvalues\u001b[0m\u001b[0;34m,\u001b[0m \u001b[0mmapper\u001b[0m\u001b[0;34m)\u001b[0m\u001b[0;34m\u001b[0m\u001b[0;34m\u001b[0m\u001b[0m\n\u001b[0m\u001b[1;32m    871\u001b[0m \u001b[0;34m\u001b[0m\u001b[0m\n\u001b[1;32m    872\u001b[0m         \u001b[0;32mreturn\u001b[0m \u001b[0mnew_values\u001b[0m\u001b[0;34m\u001b[0m\u001b[0;34m\u001b[0m\u001b[0m\n",
      "\u001b[0;32m~/.pyenv/versions/3.9.6/Library/Frameworks/Python.framework/Versions/3.9/lib/python3.9/site-packages/pandas/_libs/lib.pyx\u001b[0m in \u001b[0;36mpandas._libs.lib.map_infer\u001b[0;34m()\u001b[0m\n",
      "\u001b[0;32m/var/folders/17/9gzk94x14pd6ymrhcq9h5gf00000gn/T/ipykernel_4994/1795729367.py\u001b[0m in \u001b[0;36msplitBank\u001b[0;34m(bankString)\u001b[0m\n\u001b[1;32m      1\u001b[0m \u001b[0;32mdef\u001b[0m \u001b[0msplitBank\u001b[0m\u001b[0;34m(\u001b[0m\u001b[0mbankString\u001b[0m\u001b[0;34m)\u001b[0m\u001b[0;34m:\u001b[0m\u001b[0;34m\u001b[0m\u001b[0;34m\u001b[0m\u001b[0m\n\u001b[0;32m----> 2\u001b[0;31m     \u001b[0;32mreturn\u001b[0m \u001b[0mbankString\u001b[0m\u001b[0;34m.\u001b[0m\u001b[0msplit\u001b[0m\u001b[0;34m(\u001b[0m\u001b[0;34m'|'\u001b[0m\u001b[0;34m)\u001b[0m \u001b[0;32mif\u001b[0m \u001b[0;34m(\u001b[0m\u001b[0;32mnot\u001b[0m \u001b[0mpd\u001b[0m\u001b[0;34m.\u001b[0m\u001b[0misna\u001b[0m\u001b[0;34m(\u001b[0m\u001b[0mbankString\u001b[0m\u001b[0;34m)\u001b[0m\u001b[0;34m)\u001b[0m \u001b[0;32melse\u001b[0m \u001b[0;34m''\u001b[0m\u001b[0;34m\u001b[0m\u001b[0;34m\u001b[0m\u001b[0m\n\u001b[0m",
      "\u001b[0;31mAttributeError\u001b[0m: 'float' object has no attribute 'split'"
     ]
    }
   ],
   "source": [
    "# need Acc no sorted\n",
    "# declare var\n",
    "focus_dataframe = dataframe1\n",
    "bank_input = np.array(focus_dataframe['Frombank'])\n",
    "# bank_input\n",
    "# array(['BBL|BBL', 'BBL|BAY', 'BBL|SCB', 'Kbank|Kbank|SCB|BAY'], dtype=object)\n",
    "\n",
    "# provide running idx -- run on each row of dataframe\n",
    "idx = 0\n",
    "\n",
    "# count all banks [Bay:0,scb:1 etc]\n",
    "focus_bank = splitBank(bank_input[idx]) # ['Kbank', 'Kbank', 'SCB', 'BAY']\n",
    "this_bank = ''\n",
    "uCount = 0\n",
    "\n",
    "for bank_idx in range(len(focus_bank)):\n",
    "    if this_bank != focus_bank[bank_idx]:\n",
    "        this_bank = focus_bank[bank_idx]\n",
    "        print(focus_dataframe['FBAccNo'+focus_bank[bank_idx].upper()].map(splitBank))\n",
    "    else :\n",
    "        print(focus_dataframe['FBAccNo'+focus_bank[bank_idx].upper()])\n"
   ]
  },
  {
   "cell_type": "code",
   "execution_count": 6,
   "metadata": {},
   "outputs": [
    {
     "output_type": "execute_result",
     "data": {
      "text/plain": [
       "   วันที่โอน From Bank Account No. To Bank Account No.      Amount  \\\n",
       "0  14/6/2021       BBL  1453070466     BBL  1873061780  1850000.00   \n",
       "1  14/6/2021       BBL  9203000410     BBL  1873061780   300000.00   \n",
       "\n",
       "          RefNo  \n",
       "0  BT034-140664  \n",
       "1  BT035-140664  "
      ],
      "text/html": "<div>\n<style scoped>\n    .dataframe tbody tr th:only-of-type {\n        vertical-align: middle;\n    }\n\n    .dataframe tbody tr th {\n        vertical-align: top;\n    }\n\n    .dataframe thead th {\n        text-align: right;\n    }\n</style>\n<table border=\"1\" class=\"dataframe\">\n  <thead>\n    <tr style=\"text-align: right;\">\n      <th></th>\n      <th>วันที่โอน</th>\n      <th>From Bank</th>\n      <th>Account No.</th>\n      <th>To Bank</th>\n      <th>Account No.</th>\n      <th>Amount</th>\n      <th>RefNo</th>\n    </tr>\n  </thead>\n  <tbody>\n    <tr>\n      <th>0</th>\n      <td>14/6/2021</td>\n      <td>BBL</td>\n      <td>1453070466</td>\n      <td>BBL</td>\n      <td>1873061780</td>\n      <td>1850000.00</td>\n      <td>BT034-140664</td>\n    </tr>\n    <tr>\n      <th>1</th>\n      <td>14/6/2021</td>\n      <td>BBL</td>\n      <td>9203000410</td>\n      <td>BBL</td>\n      <td>1873061780</td>\n      <td>300000.00</td>\n      <td>BT035-140664</td>\n    </tr>\n  </tbody>\n</table>\n</div>"
     },
     "metadata": {},
     "execution_count": 6
    }
   ],
   "source": [
    "df = pd.DataFrame(columns=report_col)\n",
    "\n",
    "def splitItem(banktxt):\n",
    "    if math.isnan(banktxt):\n",
    "        return ''\n",
    "    else:\n",
    "        return banktxt.split('|')\n",
    "\n",
    "# loop index\n",
    "\n",
    "# clensing data\n",
    "day_c = pd.DataFrame(np.array(dataframe['วันที่โอน']\n",
    "    .map(lambda x:x if (not pd.isna(x)) else 'None')\n",
    "    .iloc[0]\n",
    "    .split('|') \n",
    "    )\n",
    "    .reshape(-1, 1),\n",
    "    columns=['วันที่โอน'])\n",
    "\n",
    "def formatdate(datesting):\n",
    "    dateS = datesting.split(\"/\")\n",
    "    dateR = dateS[1]+\"/\"+dateS[0]+\"/\"+dateS[2]\n",
    "    return dateR\n",
    "\n",
    "day_c = pd.DataFrame(np.array(dataframe['วันที่โอน']\n",
    "    .map(lambda x:x if (not pd.isna(x)) else 'None')\n",
    "    .iloc[0]\n",
    "    .split('|') \n",
    "    )\n",
    "    .reshape(-1, 1),\n",
    "    columns=['วันที่โอน']   \n",
    ")['วันที่โอน'].map(formatdate)\n",
    "\n",
    "\n",
    "FB_C = pd.DataFrame(np.array(dataframe['FromBank']\n",
    "    .map(lambda x:x if (not pd.isna(x)) else 'None')\n",
    "    .iloc[0]\n",
    "    .split('|') \n",
    "    )\n",
    "    .reshape(-1, 1),\n",
    "    columns=['From Bank']\n",
    ")\n",
    "\n",
    "# accurately target bank from 'from bank data'\n",
    "# dataframe['FromBank'].iloc[0]\n",
    "# 'BBL|BBL'\n",
    "# FromAccNo+FB_C\n",
    "\n",
    "FB_BankAccNo = pd.DataFrame(np.array(dataframe['FromAccNoBBL']\n",
    "    .map(lambda x:x if (not pd.isna(x)) else 'None')\n",
    "    .iloc[0]\n",
    "    .split('|') \n",
    "    )\n",
    "    .reshape(-1, 1),\n",
    "    columns=['Account No.']\n",
    ")\n",
    "\n",
    "To_Bank = pd.DataFrame(np.array(dataframe['ToBank']\n",
    "    .map(lambda x:x if (not pd.isna(x)) else 'None')\n",
    "    .iloc[0]\n",
    "    .split('|') \n",
    "    )\n",
    "    .reshape(-1, 1),\n",
    "    columns=['To Bank']\n",
    ")\n",
    "\n",
    "To_BankNo = pd.DataFrame(np.array(dataframe['ToAccNoBBL']\n",
    "    .map(lambda x:x if (not pd.isna(x)) else 'None')\n",
    "    .iloc[0]\n",
    "    .split('|') \n",
    "    )\n",
    "    .reshape(-1, 1),\n",
    "    columns=['Account No.']\n",
    ")\n",
    "\n",
    "\n",
    "Amount_C = pd.DataFrame(np.array(dataframe['Amount']\n",
    "    .map(lambda x:x if (not pd.isna(x)) else 'None')\n",
    "    .iloc[0]\n",
    "    .split('|') \n",
    "    )\n",
    "    .reshape(-1, 1),\n",
    "    columns=['Amount']\n",
    ")\n",
    "\n",
    "RefNo_C = pd.DataFrame(np.array(dataframe['RefNo']\n",
    "    .map(lambda x:x if (not pd.isna(x)) else 'None')\n",
    "    .iloc[0]\n",
    "    .split('|') \n",
    "    )\n",
    "    .reshape(-1, 1),\n",
    "    columns=['RefNo']\n",
    ")\n",
    "\n",
    "merge = pd.concat([day_c,FB_C,FB_BankAccNo,To_Bank,To_BankNo,Amount_C,RefNo_C], axis=1)\n",
    "merge\n",
    "\n"
   ]
  },
  {
   "cell_type": "code",
   "execution_count": null,
   "metadata": {},
   "outputs": [],
   "source": []
  },
  {
   "cell_type": "code",
   "execution_count": 7,
   "metadata": {},
   "outputs": [],
   "source": [
    "# export\n",
    "# merge.to_csv(\"Report_PV.csv\",header=True,index=True)"
   ]
  },
  {
   "cell_type": "code",
   "execution_count": 8,
   "metadata": {},
   "outputs": [
    {
     "output_type": "execute_result",
     "data": {
      "text/plain": [
       "  From Bank\n",
       "0       BBL\n",
       "1       BBL"
      ],
      "text/html": "<div>\n<style scoped>\n    .dataframe tbody tr th:only-of-type {\n        vertical-align: middle;\n    }\n\n    .dataframe tbody tr th {\n        vertical-align: top;\n    }\n\n    .dataframe thead th {\n        text-align: right;\n    }\n</style>\n<table border=\"1\" class=\"dataframe\">\n  <thead>\n    <tr style=\"text-align: right;\">\n      <th></th>\n      <th>From Bank</th>\n    </tr>\n  </thead>\n  <tbody>\n    <tr>\n      <th>0</th>\n      <td>BBL</td>\n    </tr>\n    <tr>\n      <th>1</th>\n      <td>BBL</td>\n    </tr>\n  </tbody>\n</table>\n</div>"
     },
     "metadata": {},
     "execution_count": 8
    }
   ],
   "source": [
    "FB_C"
   ]
  },
  {
   "cell_type": "code",
   "execution_count": null,
   "metadata": {},
   "outputs": [],
   "source": []
  }
 ],
 "metadata": {
  "interpreter": {
   "hash": "e641585f49bec801dbf4ec80fba1bb37ef7d4fdccac2975d1a19e0380401a405"
  },
  "kernelspec": {
   "name": "python3",
   "display_name": "Python 3.9.6 64-bit ('3.9': pyenv)"
  },
  "language_info": {
   "codemirror_mode": {
    "name": "ipython",
    "version": 3
   },
   "file_extension": ".py",
   "mimetype": "text/x-python",
   "name": "python",
   "nbconvert_exporter": "python",
   "pygments_lexer": "ipython3",
   "version": "3.9.6"
  },
  "orig_nbformat": 4
 },
 "nbformat": 4,
 "nbformat_minor": 2
}