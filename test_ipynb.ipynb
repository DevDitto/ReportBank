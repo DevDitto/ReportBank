{
 "metadata": {
  "language_info": {
   "codemirror_mode": {
    "name": "ipython",
    "version": 3
   },
   "file_extension": ".py",
   "mimetype": "text/x-python",
   "name": "python",
   "nbconvert_exporter": "python",
   "pygments_lexer": "ipython3",
   "version": "3.9.0"
  },
  "orig_nbformat": 2,
  "kernelspec": {
   "name": "python3",
   "display_name": "Python 3.9.0 64-bit"
  },
  "interpreter": {
   "hash": "63fd5069d213b44bf678585dea6b12cceca9941eaf7f819626cde1f2670de90d"
  }
 },
 "nbformat": 4,
 "nbformat_minor": 2,
 "cells": [
  {
   "cell_type": "code",
   "execution_count": 8,
   "metadata": {},
   "outputs": [],
   "source": [
    "# import lib\n",
    "import numpy as np \n",
    "import pandas as pd \n",
    "import os\n",
    "import shutil\n",
    "from os import listdir\n",
    "from os.path import isfile, join"
   ]
  },
  {
   "cell_type": "code",
   "execution_count": 9,
   "metadata": {},
   "outputs": [],
   "source": [
    "# folder/ dir/ path\n",
    "path = 'C:\\\\Users\\\\Administrator\\\\Desktop\\\\LSF\\\\RPA-Python\\\\csv\\\\PVcheque\\\\'\n",
    "# dir = os.path.dirname(os.path.realpath(__file__))\n",
    "wwwpath = 'C:\\\\inetpub\\\\wwwroot\\\\report\\\\PVreport\\\\PV1\\\\'\n",
    "filesname = [f for f in listdir(path) if isfile(join(path, f))]\n",
    "latestfile = sorted(filesname,reverse=True)[0]"
   ]
  },
  {
   "cell_type": "code",
   "execution_count": 10,
   "metadata": {},
   "outputs": [],
   "source": [
    "# opencsv \n",
    "df = pd.read_csv(path+latestfile)\n",
    "\n",
    "new_col = ['จ่ายให้','รายละเอียด','จำนวนเงินรวมทั้งสิ้น','เลขที่ cheque/ประเภทการจ่าย','ลงวันที่จ่าย','A/C No.','BANK','AP NO.','status']\n",
    "\n",
    "# df.columns"
   ]
  },
  {
   "cell_type": "code",
   "execution_count": 11,
   "metadata": {},
   "outputs": [],
   "source": [
    "# df\n",
    "def waitpay(string):\n",
    "    try:\n",
    "        if (\"Waiting Payment\" in string): return True\n",
    "        else: return False\n",
    "    except:\n",
    "        return False    "
   ]
  },
  {
   "cell_type": "code",
   "execution_count": 12,
   "metadata": {},
   "outputs": [],
   "source": [
    "# recrate col\n",
    "def formatDate(stringDate):\n",
    "    try:\n",
    "        D = stringDate.split(\"/\")\n",
    "        d = D[1]; m = D[0]; yr = D[2]\n",
    "        return d+'/'+m+'/'+yr\n",
    "    except:\n",
    "        return 'NaN'  \n",
    "\n",
    "def isNotBlank (myString):\n",
    "    if myString and myString.strip():\n",
    "        #myString is not None AND myString is not empty or blank\n",
    "        return True\n",
    "    #myString is None OR myString is empty or blank\n",
    "    return False\n",
    "\n",
    "def isBlank (myString):\n",
    "    if myString and myString.strip():\n",
    "        #myString is not None AND myString is not empty or blank\n",
    "        return False\n",
    "    #myString is None OR myString is empty or blank\n",
    "    return True\n",
    "\n",
    "\n",
    "\n",
    "def formatAP(stringTask):\n",
    "    try:\n",
    "        P = stringTask.split(\"|\")\n",
    "        pvtype = P[0]; pvno = P[1]; AP = P[2]; haspaid=P[3]\n",
    "        if(isNotBlank(AP)): return AP.strip()\n",
    "        else : return 'NaN'\n",
    "    except:\n",
    "        return 'NaN' \n",
    "\n",
    "def fillPaid(s):\n",
    "    if(isNotBlank(str(s)) and str(s) != \"nan\"): return str(s);\n",
    "    else : return \"Paid\"                   \n",
    "\n",
    "iCashCol = ['ธนาคาร (iCash)_BBL-1780', 'ธนาคาร (iCash)_BBL-3222','ธนาคาร (iCash)_BBL-4931',]  \n",
    "\n",
    "chequeCol = ['ธนาคาร (cheque)_BBL-1780','ธนาคาร (cheque)_BBL-3222', 'ธนาคาร (cheque)_BBL-4931','ธนาคาร (cheque)_SCB-3946', 'ธนาคาร (cheque)_TMB-2801','ธนาคาร (cheque)_KTB-0408', 'ธนาคาร (cheque)_BAY-0426','ธนาคาร (cheque)_KBANK-3343', 'ธนาคาร (cheque)_KBANK-1706','ธนาคาร (cheque)_OTHER']\n",
    "\n",
    "\n",
    "new_csv = pd.DataFrame(columns=new_col)\n",
    "\n",
    "# จ่ายให้\n",
    "new_csv[new_col[0]] = df[new_col[0]]\n",
    "\n",
    "# รายละเอียด\n",
    "new_csv[new_col[1]] = df[new_col[1]]\n",
    "\n",
    "# จำนวนเงินรวมทั้งสิ้น\n",
    "new_csv[new_col[2]] = df[new_col[2]].apply(float)\n",
    "\n",
    "# เลขที่ cheque\n",
    "new_csv[new_col[3]] = df['ประเภทการจ่าย']\n",
    "for i in range(0,len(new_csv[new_col[3]])):\n",
    "    if(new_csv[new_col[3]].iloc[i] == 'Cheque'):\n",
    "        new_csv[new_col[3]].iloc[i] = str(df['เลขที่ cheque'].iloc[i]).split('.')[0]\n",
    "    elif(new_csv[new_col[3]].iloc[i] == 'other'):\n",
    "        new_csv[new_col[3]].iloc[i] = str(df['ช่องทางอื่นๆ'].iloc[i])\n",
    "    elif(isBlank(str(new_csv[new_col[3]].iloc[i])) or str(new_csv[new_col[3]].iloc[i]) == \"nan\"):\n",
    "        new_csv[new_col[3]].iloc[i] = \"NaN\" \n",
    "\n",
    "# ลงวันที่จ่าย\n",
    "new_csv[new_col[4]] = df['ลงวันที่จ่าย']      \n",
    "\n",
    "# A/C NO.\n",
    "new_csv[new_col[5]] = 'NaN'\n",
    "for i in range(0,len(new_csv[new_col[3]])):\n",
    "    if(new_csv[new_col[3]].iloc[i] == 'Cheque'):\n",
    "        for idx in range(0,len(df[chequeCol].iloc[i])):\n",
    "            if df[chequeCol].iloc[i][idx] > 0:\n",
    "                new_csv[new_col[5]].iloc[i] = df[chequeCol].columns[idx]\n",
    "                # print(df[chequeCol].columns[idx])\n",
    "                break;    \n",
    "    elif(new_csv[new_col[3]].iloc[i] == 'iCash'):\n",
    "        for idx in range(0,len(df[iCashCol].iloc[i])):\n",
    "            if df[iCashCol].iloc[i][idx] > 0:\n",
    "                new_csv[new_col[5]].iloc[i] = df[iCashCol].columns[idx]\n",
    "                # print(df[chequeCol].columns[idx])\n",
    "                break;   \n",
    "    elif(new_csv[new_col[3]].iloc[i] == 'other'):\n",
    "        new_csv[new_col[5]].iloc[i] = 'NaN'   \n",
    "\n",
    "# A/C NO.\n",
    "new_csv[new_col[7]] = df['PV Type | PV no. | AP | Paid status'].apply(formatAP)\n",
    "\n",
    "# task status\n",
    "new_csv[new_col[8]] = df['task_status'].apply(fillPaid)\n"
   ]
  },
  {
   "cell_type": "code",
   "execution_count": 13,
   "metadata": {},
   "outputs": [],
   "source": [
    "# export report\n",
    "\n",
    "waitPayment = df.loc[df['task_status'].apply(waitpay)].sort_values(by='ลงวันที่จ่าย', ascending=False)\n",
    "\n",
    "\n",
    "# waitPayment\n",
    "waitPayment.to_csv(wwwpath+'filter_waitPayment_'+latestfile)\n",
    "\n",
    "# all data\n",
    "# last row = summary --> drop last row\n",
    "new_csv.iloc[:-1].sort_values(by='status', ascending=False).to_csv(wwwpath+'alldata_'+latestfile)"
   ]
  },
  {
   "cell_type": "code",
   "execution_count": 14,
   "metadata": {},
   "outputs": [
    {
     "output_type": "stream",
     "name": "stdout",
     "text": [
      "['Kamolrat Mindo', 'Narisara Niyomrat', 'Nipa Wungsoh']\n"
     ]
    }
   ],
   "source": [
    "a= \"Kamolrat Mindo,Narisara Niyomrat,Nipa Wungsoh\"\n",
    "print(a.split(\",\"))"
   ]
  },
  {
   "cell_type": "code",
   "execution_count": null,
   "metadata": {},
   "outputs": [],
   "source": []
  }
 ]
}