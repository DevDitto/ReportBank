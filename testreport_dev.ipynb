{
 "metadata": {
  "language_info": {
   "codemirror_mode": {
    "name": "ipython",
    "version": 3
   },
   "file_extension": ".py",
   "mimetype": "text/x-python",
   "name": "python",
   "nbconvert_exporter": "python",
   "pygments_lexer": "ipython3",
   "version": "3.9.6"
  },
  "orig_nbformat": 4,
  "kernelspec": {
   "name": "python3",
   "display_name": "Python 3.9.6 64-bit ('3.9': pyenv)"
  },
  "interpreter": {
   "hash": "e641585f49bec801dbf4ec80fba1bb37ef7d4fdccac2975d1a19e0380401a405"
  }
 },
 "nbformat": 4,
 "nbformat_minor": 2,
 "cells": [
  {
   "cell_type": "code",
   "execution_count": 1,
   "metadata": {},
   "outputs": [
    {
     "output_type": "stream",
     "name": "stderr",
     "text": [
      "/Users/neo/.pyenv/versions/3.9.6/Library/Frameworks/Python.framework/Versions/3.9/lib/python3.9/site-packages/pandas/compat/__init__.py:124: UserWarning: Could not import the lzma module. Your installed Python is incomplete. Attempting to use lzma compression will result in a RuntimeError.\n  warnings.warn(msg)\n"
     ]
    }
   ],
   "source": [
    "# import libraries # warning lzma on python 3.9++\n",
    "import numpy as np\n",
    "import pandas as pd"
   ]
  },
  {
   "cell_type": "code",
   "execution_count": 52,
   "metadata": {},
   "outputs": [
    {
     "output_type": "execute_result",
     "data": {
      "text/plain": [
       "range(0, 2)"
      ]
     },
     "metadata": {},
     "execution_count": 52
    }
   ],
   "source": [
    "# get data from path\n",
    "name = 'Custom_Report_PVTF_clense_report_16_07_2021.csv'\n",
    "# focus_df = pd.read_csv('Custom_Report_PVTF_clense_report_7_16_2021.csv',dtype=str)\n",
    "focus_df = pd.read_csv('Custom_Report_PVTF_clense_report_16_07_2021.csv',dtype=str)\n",
    "range(len(focus_df))"
   ]
  },
  {
   "cell_type": "code",
   "execution_count": 27,
   "metadata": {},
   "outputs": [],
   "source": [
    "# view column\n",
    "# Index(['วันที่โอน', 'Frombank', 'Frombank_BBL', 'Frombank_SCB', 'Frombank_BAY',\n",
    "#        'Frombank_Kbank', 'Frombank_TTB', 'Frombank_KTB', 'FBAccNoBAY',\n",
    "#        'FBAccNoBAY_1850030426', 'FBAccNoBAY_1851288804', 'FBAccNoBBL',\n",
    "#        'FBAccNoBBL_1873061780', 'FBAccNoBBL_1874493222',\n",
    "#        'FBAccNoBBL_9203000410', 'FBAccNoBBL_9200013200',\n",
    "#        'FBAccNoBBL_9203000303', 'FBAccNoBBL_5820904489',\n",
    "#        'FBAccNoBBL_5823004931', 'FBAccNoBBL_2173020112',\n",
    "#        'FBAccNoBBL_2174149696', 'FBAccNoBBL_1455466696',\n",
    "#        'FBAccNoBBL_1453070466', 'FBAccNoKBANK', 'FBAccNoKBANK_7391013343',\n",
    "#        'FBAccNoKBANK_7601020836', 'FBAccNoKBANK_7601020763',\n",
    "#        'FBAccNoKBANK_7001001706', 'FBAccNoKBANK_7002239188', 'FBAccNoKTB',\n",
    "#        'FBAccNoKTB_1950180611', 'FBAccNoKTB_1956010408', 'FBAccNoSCB',\n",
    "#        'FBAccNoSCB_1173013946', 'FBAccNoSCB_1172673256', 'FBAccNoTTB',\n",
    "#        'FBAccNoTTB_1012199970', 'FBAccNoTTB_1011102801', 'ToBank',\n",
    "#        'ToBank_BBL', 'ToBank_SCB', 'ToBank_BAY', 'ToBank_Kbank', 'ToBank_TTB',\n",
    "#        'ToBank_KTB', 'ToBankBAY', 'ToBankBAY_1850030426',\n",
    "#        'ToBankBAY_1851288804', 'ToBankBBL', 'ToBankBBL_1873061780',\n",
    "#        'ToBankBBL_1874493222', 'ToBankBBL_9203000410', 'ToBankBBL_9200013200',\n",
    "#        'ToBankBBL_9203000303', 'ToBankBBL_5820904489', 'ToBankBBL_5823004931',\n",
    "#        'ToBankBBL_2173020112', 'ToBankBBL_2174149696', 'ToBankBBL_1455466696',\n",
    "#        'ToBankBBL_1453070466', 'ToBankKbank', 'ToBankKbank_7391013343',\n",
    "#        'ToBankKbank_7601020836', 'ToBankKbank_7601020763',\n",
    "#        'ToBankKbank_7001001706', 'ToBankKbank_7002239188', 'ToBankKTB',\n",
    "#        'ToBankKTB_1950180611', 'ToBankKTB_1956010408', 'ToBankSCB',\n",
    "#        'ToBankSCB_1173013946', 'ToBankSCB_1172673256', 'ToBankTTB',\n",
    "#        'ToBankTTB_1012199970', 'ToBankTTB_1011102801', 'Amount', 'RefNo'],\n",
    "#       dtype='object')"
   ]
  },
  {
   "cell_type": "code",
   "execution_count": 28,
   "metadata": {},
   "outputs": [],
   "source": [
    "# declare structure\n",
    "report_col = ['วันที่โอน', 'FormBank', 'AccNo.','ToBank','Accno','Amount','Ref.']\n",
    "\n"
   ]
  },
  {
   "cell_type": "code",
   "execution_count": 46,
   "metadata": {},
   "outputs": [],
   "source": [
    "# declare function\n",
    "def splitBank(bankString):\n",
    "    '''\n",
    "    split BAY|BAY --> [BAY,BAY]\n",
    "    '''\n",
    "    return bankString.split('|') if (not pd.isna(bankString)) else ''\n",
    "\n",
    "def formatdate(datesting):\n",
    "    '''\n",
    "    swap mm/dd/yyyy --> dd/mm/yyyy\n",
    "    '''\n",
    "    dateS = datesting.split(\"/\")\n",
    "    dateR = dateS[1]+\"/\"+dateS[0]+\"/\"+dateS[2]\n",
    "    return dateR    \n",
    "\n",
    "def clense_df_day(df_row):\n",
    "    '''\n",
    "    make 7/19/2021|7/20/2021 --> df 0    19/7/2021\n",
    "                                    1    23/7/2021\n",
    "    '''\n",
    "    dataString = df_row['วันที่โอน']\n",
    "    bankarr = splitBank(dataString)\n",
    "    day_c = pd.DataFrame(np.array(bankarr),columns=['วันที่โอน']).applymap(formatdate)\n",
    "    # print(type(day_c))\n",
    "    return day_c\n",
    "\n",
    "def clense_df_day(df_row):\n",
    "    '''\n",
    "    make 7/19/2021|7/20/2021 --> df 0    19/7/2021\n",
    "                                    1    23/7/2021\n",
    "    '''\n",
    "    dataString = df_row['วันที่โอน']\n",
    "    bankarr = splitBank(dataString)\n",
    "    day_c = pd.DataFrame(np.array(bankarr),columns=['วันที่โอน']).applymap(formatdate)\n",
    "    # print(type(day_c))\n",
    "    return day_c\n",
    "\n",
    "def clense_df(df_row,field,newCol):\n",
    "    '''\n",
    "    make 7/19/2021|7/20/2021 --> df 0    19/7/2021\n",
    "                                    1    23/7/2021\n",
    "    '''\n",
    "    dataString = df_row[field]\n",
    "    arr = dataString.split('|')  if (not pd.isna(dataString)) else ''\n",
    "    c = pd.DataFrame(np.array(arr),columns=[newCol])\n",
    "    # print(type(day_c))\n",
    "    return c      \n",
    "\n",
    "def getBankAccNo(df_row,focus_dataframe,row_run):\n",
    "    '''\n",
    "    make 'BBL|BBL' --> df 0    123124145\n",
    "                          1    406804786\n",
    "    '''    \n",
    "    bank_input = df_row['Frombank']\n",
    "\n",
    "    focus_bank = splitBank(bank_input) # ['Kbank', 'Kbank', 'SCB', 'BAY'] return '' if NaN\n",
    "    this_bank = 'start'\n",
    "    uCount = 0\n",
    "    accNumber = []\n",
    "\n",
    "    for bank in focus_bank:\n",
    "        # check if not ''(Nan)\n",
    "        if(this_bank != bank):\n",
    "            this_bank = bank\n",
    "            uCount = 0\n",
    "            # get bank account\n",
    "            this_accNo = focus_dataframe['FBAccNo'+bank.upper()][row_run].split('|')[uCount]\n",
    "            # print(uCount)\n",
    "            # print(this_accNo)\n",
    "            accNumber.append(this_accNo)\n",
    "            # print(type(this_accNo))\n",
    "        elif(this_bank == bank):\n",
    "            # move to another index\n",
    "            uCount = uCount +1\n",
    "            this_accNo = focus_dataframe['FBAccNo'+bank.upper()][row_run].split('|')[uCount]\n",
    "            # print(uCount)\n",
    "            # print(this_accNo)\n",
    "            accNumber.append(this_accNo)\n",
    "            # print(type(this_accNo))     \n",
    "        else:\n",
    "            # skip got NaN\n",
    "            uCount = 0\n",
    "            continue   \n",
    "\n",
    "    FB_BankAccNo = pd.DataFrame(np.array(accNumber).reshape(-1, 1),columns=['AccNo.'])\n",
    "    return FB_BankAccNo\n",
    "\n",
    "def getToBankAccNo(df_row,focus_dataframe,row_run):\n",
    "    '''\n",
    "    make 'BBL|BBL' --> df 0    123124145\n",
    "                          1    406804786\n",
    "    '''    \n",
    "    bank_input = df_row['ToBank']\n",
    "\n",
    "    focus_bank = splitBank(bank_input) # ['Kbank', 'Kbank', 'SCB', 'BAY'] return '' if NaN\n",
    "    this_bank = 'start'\n",
    "    uCount = 0\n",
    "    accNumber = []\n",
    "\n",
    "    for bank in focus_bank:\n",
    "        # check if not ''(Nan)\n",
    "        if(this_bank != bank):\n",
    "            this_bank = bank\n",
    "            uCount = 0\n",
    "            # get bank account\n",
    "            this_accNo = focus_dataframe['ToBank'+bank][row_run].split('|')[uCount]\n",
    "            # print(uCount)\n",
    "            # print(this_accNo)\n",
    "            accNumber.append(this_accNo)\n",
    "            # print(type(this_accNo))\n",
    "        elif(this_bank == bank):\n",
    "            # move to another index\n",
    "            uCount = uCount +1\n",
    "            this_accNo = focus_dataframe['ToBank'+bank][row_run].split('|')[uCount]\n",
    "            # print(uCount)\n",
    "            # print(this_accNo)\n",
    "            accNumber.append(this_accNo)\n",
    "            # print(type(this_accNo))     \n",
    "        else:\n",
    "            # skip got NaN\n",
    "            uCount = 0\n",
    "            continue   \n",
    "\n",
    "    To_BankAccNo = pd.DataFrame(np.array(accNumber).reshape(-1, 1),columns=['AccNo.'])\n",
    "    return To_BankAccNo\n"
   ]
  },
  {
   "cell_type": "code",
   "execution_count": 51,
   "metadata": {},
   "outputs": [
    {
     "output_type": "execute_result",
     "data": {
      "text/plain": [
       "    วันที่โอน Frombank      AccNo. ToBank      AccNo.      Amount  \\\n",
       "0  07/12/2021      BBL  1453070466    BBL  1873061780  1300000.00   \n",
       "\n",
       "          RefNo  \n",
       "0  BT042-120764  "
      ],
      "text/html": "<div>\n<style scoped>\n    .dataframe tbody tr th:only-of-type {\n        vertical-align: middle;\n    }\n\n    .dataframe tbody tr th {\n        vertical-align: top;\n    }\n\n    .dataframe thead th {\n        text-align: right;\n    }\n</style>\n<table border=\"1\" class=\"dataframe\">\n  <thead>\n    <tr style=\"text-align: right;\">\n      <th></th>\n      <th>วันที่โอน</th>\n      <th>Frombank</th>\n      <th>AccNo.</th>\n      <th>ToBank</th>\n      <th>AccNo.</th>\n      <th>Amount</th>\n      <th>RefNo</th>\n    </tr>\n  </thead>\n  <tbody>\n    <tr>\n      <th>0</th>\n      <td>07/12/2021</td>\n      <td>BBL</td>\n      <td>1453070466</td>\n      <td>BBL</td>\n      <td>1873061780</td>\n      <td>1300000.00</td>\n      <td>BT042-120764</td>\n    </tr>\n  </tbody>\n</table>\n</div>"
     },
     "metadata": {},
     "execution_count": 51
    }
   ],
   "source": [
    "\n",
    "# begin clensing data\n",
    "merge = pd.DataFrame(columns= ['วันที่โอน', 'Frombank', 'AccNo.','ToBank','AccNo.','Amount','RefNo'])\n",
    "\n",
    "for idx in range(len(focus_df)):\n",
    "    data_row = focus_df.iloc[idx]\n",
    "    if(pd.isna(data_row['Frombank'])):\n",
    "        continue\n",
    "    else:\n",
    "        day_c = clense_df_day(data_row) #ok\n",
    "        FB_C = clense_df(data_row,'Frombank','Frombank') #ok\n",
    "        FB_BankAccNo = getBankAccNo(data_row,focus_df,0) #ok\n",
    "        To_Bank = clense_df(data_row,'ToBank','ToBank') #ok\n",
    "        To_BankNo = getToBankAccNo(data_row,focus_df,0) #ok\n",
    "        Amount_C = clense_df(data_row,'Amount','Amount') #ok\n",
    "        RefNo_C = clense_df(data_row,'RefNo','RefNo') #ok\n",
    "\n",
    "        m = pd.concat([day_c,FB_C,FB_BankAccNo,To_Bank,To_BankNo,Amount_C,RefNo_C], axis=1)\n",
    "        # print(m)\n",
    "        merge = pd.concat([merge,m])"
   ]
  },
  {
   "cell_type": "code",
   "execution_count": 56,
   "metadata": {},
   "outputs": [],
   "source": [
    "# export data\n",
    "filename = name.split('.')[0]\n",
    "merge.to_csv(filename+'_clense.csv', encoding='iso8859_11')"
   ]
  },
  {
   "cell_type": "code",
   "execution_count": null,
   "metadata": {},
   "outputs": [],
   "source": []
  }
 ]
}